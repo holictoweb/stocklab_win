{
 "cells": [
  {
   "cell_type": "code",
   "execution_count": 1,
   "metadata": {},
   "outputs": [],
   "source": [
    "from pyspark.sql import SparkSession"
   ]
  },
  {
   "cell_type": "code",
   "execution_count": 2,
   "metadata": {},
   "outputs": [],
   "source": [
    "spark = SparkSession.builder.appName(\"create data\").getOrCreate()"
   ]
  },
  {
   "cell_type": "code",
   "execution_count": 3,
   "metadata": {},
   "outputs": [],
   "source": [
    "# spark get min data\n",
    "df = spark.read.format(\"parquet\").load(\"d:/dw/stock_min\")"
   ]
  },
  {
   "cell_type": "code",
   "execution_count": 5,
   "metadata": {},
   "outputs": [
    {
     "output_type": "stream",
     "name": "stdout",
     "text": [
      "+-----+----+---------+----+----+------+-----+--------+\n|close|high|jdiff_vol| low|open|  time|value|    date|\n+-----+----+---------+----+----+------+-----+--------+\n| 6600|6900|    80898|6540|6890|090100|  552|20210506|\n| 6540|6630|    52283|6470|6600|090200|  342|20210506|\n| 6460|6600|    47674|6460|6540|090300|  311|20210506|\n| 6380|6480|    57400|6230|6470|090400|  364|20210506|\n| 6480|6480|    34261|6330|6380|090500|  219|20210506|\n| 6490|6510|    15519|6440|6470|090600|  101|20210506|\n| 6400|6480|    18981|6380|6480|090700|  122|20210506|\n| 6330|6410|    25294|6320|6400|090800|  161|20210506|\n| 6300|6390|    28404|6290|6380|090900|  180|20210506|\n| 6210|6300|    38551|6210|6300|091000|  241|20210506|\n| 6210|6210|        0|6210|6210|091100|    0|20210506|\n| 6210|6210|        0|6210|6210|091200|    0|20210506|\n| 6500|6560|    41625|6310|6450|091300|  268|20210506|\n| 6560|6560|    21470|6430|6530|091400|  139|20210506|\n| 6520|6560|    11198|6430|6560|091500|   73|20210506|\n| 6480|6520|     7450|6470|6500|091600|   48|20210506|\n| 6420|6480|    11488|6420|6480|091700|   74|20210506|\n| 6340|6460|    12540|6340|6420|091800|   80|20210506|\n| 6400|6430|     8217|6340|6350|091900|   53|20210506|\n| 6410|6420|     6428|6400|6400|092000|   41|20210506|\n+-----+----+---------+----+----+------+-----+--------+\nonly showing top 20 rows\n\n"
     ]
    }
   ],
   "source": [
    "df.show()"
   ]
  },
  {
   "cell_type": "code",
   "execution_count": 4,
   "metadata": {},
   "outputs": [
    {
     "name": "stdout",
     "output_type": "stream",
     "text": [
      "+------+------+\n",
      "|    _1|    _2|\n",
      "+------+------+\n",
      "|  Java| 20000|\n",
      "|Python|100000|\n",
      "| Scala|  3000|\n",
      "+------+------+\n",
      "\n"
     ]
    }
   ],
   "source": []
  },
  {
   "cell_type": "code",
   "execution_count": null,
   "metadata": {},
   "outputs": [],
   "source": []
  }
 ],
 "metadata": {
  "kernelspec": {
   "display_name": "test32",
   "language": "python",
   "name": "test32"
  },
  "language_info": {
   "codemirror_mode": {
    "name": "ipython",
    "version": 3
   },
   "file_extension": ".py",
   "mimetype": "text/x-python",
   "name": "python",
   "nbconvert_exporter": "python",
   "pygments_lexer": "ipython3",
   "version": "3.7.9"
  }
 },
 "nbformat": 4,
 "nbformat_minor": 4
}