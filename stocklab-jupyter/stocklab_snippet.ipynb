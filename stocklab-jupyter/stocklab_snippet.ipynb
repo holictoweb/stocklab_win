{
 "cells": [
  {
   "source": [
    "# lake warehouse 구축\n",
    "\n",
    "1. delta lake 구성 및 upsert test"
   ],
   "cell_type": "markdown",
   "metadata": {}
  },
  {
   "cell_type": "code",
   "execution_count": null,
   "metadata": {},
   "outputs": [],
   "source": []
  },
  {
   "source": [
    "from pyspark.sql import SparkSession"
   ],
   "cell_type": "code",
   "metadata": {},
   "execution_count": 1,
   "outputs": []
  },
  {
   "cell_type": "code",
   "execution_count": 4,
   "metadata": {},
   "outputs": [],
   "source": [
    "spark = SparkSession.builder.appName(\"create data\") \\\n",
    "    .getOrCreate()"
   ]
  },
  {
   "cell_type": "code",
   "execution_count": 3,
   "metadata": {},
   "outputs": [],
   "source": [
    "# spark get min data\n",
    "df = spark.read.format(\"parquet\").load(\"d:/dw/stock_min\")"
   ]
  },
  {
   "cell_type": "code",
   "execution_count": null,
   "metadata": {},
   "outputs": [],
   "source": []
  },
  {
   "cell_type": "code",
   "execution_count": 9,
   "metadata": {},
   "outputs": [
    {
     "output_type": "stream",
     "name": "stdout",
     "text": [
      "+-----+----+---------+----+----+------+-----+--------+------+\n|close|high|jdiff_vol| low|open|  time|value|    date|shcode|\n+-----+----+---------+----+----+------+-----+--------+------+\n| 4400|4400|     3658|4400|4400|090100|   14|20210401| 42510|\n| 4400|4400|        0|4400|4400|090200|    0|20210401| 42510|\n| 4420|4440|  2289808|4355|4400|090300|10079|20210401| 42510|\n| 4510|4515|  1903225|4420|4420|090400| 8511|20210401| 42510|\n| 4450|4515|  1061935|4440|4515|090500| 4772|20210401| 42510|\n| 4335|4450|   980951|4330|4450|090600| 4280|20210401| 42510|\n| 4270|4340|   930799|4255|4335|090700| 3994|20210401| 42510|\n| 4295|4310|   557469|4270|4270|090800| 2392|20210401| 42510|\n| 4320|4330|   402464|4290|4290|090900| 1736|20210401| 42510|\n| 4340|4350|   348503|4320|4320|091000| 1509|20210401| 42510|\n| 4370|4380|   351640|4340|4345|091100| 1534|20210401| 42510|\n| 4380|4400|   500328|4365|4370|091200| 2195|20210401| 42510|\n| 4305|4390|   569715|4300|4390|091300| 2472|20210401| 42510|\n| 4370|4370|   260799|4300|4305|091400| 1131|20210401| 42510|\n| 4330|4370|   234052|4315|4370|091500| 1018|20210401| 42510|\n| 4330|4345|   117770|4320|4325|091600|  510|20210401| 42510|\n| 4295|4335|   210388|4295|4330|091700|  908|20210401| 42510|\n| 4285|4300|   306915|4265|4295|091800| 1313|20210401| 42510|\n| 4325|4340|   219345|4280|4285|091900|  947|20210401| 42510|\n| 4290|4330|   167348|4285|4325|092000|  722|20210401| 42510|\n+-----+----+---------+----+----+------+-----+--------+------+\nonly showing top 20 rows\n\n"
     ]
    }
   ],
   "source": [
    "df.show()"
   ]
  },
  {
   "cell_type": "code",
   "execution_count": 8,
   "metadata": {},
   "outputs": [
    {
     "output_type": "stream",
     "name": "stdout",
     "text": [
      "++\n||\n++\n++\n\n"
     ]
    }
   ],
   "source": [
    "spark.sql(\"create database stocklab\").show()"
   ]
  },
  {
   "cell_type": "code",
   "execution_count": 4,
   "metadata": {},
   "outputs": [
    {
     "name": "stdout",
     "output_type": "stream",
     "text": [
      "+------+------+\n",
      "|    _1|    _2|\n",
      "+------+------+\n",
      "|  Java| 20000|\n",
      "|Python|100000|\n",
      "| Scala|  3000|\n",
      "+------+------+\n",
      "\n"
     ]
    }
   ],
   "source": []
  },
  {
   "cell_type": "code",
   "execution_count": 6,
   "metadata": {},
   "outputs": [
    {
     "output_type": "stream",
     "name": "stdout",
     "text": [
      "20210101\n20210102\n20210103\n20210104\n20210105\n20210106\n20210107\n20210108\n20210109\n20210110\n20210111\n20210112\n20210113\n20210114\n20210115\n20210116\n20210117\n20210118\n20210119\n20210120\n20210121\n20210122\n20210123\n20210124\n20210125\n20210126\n20210127\n20210128\n20210129\n20210130\n20210131\n20210201\n20210202\n20210203\n20210204\n20210205\n20210206\n20210207\n20210208\n20210209\n20210210\n20210211\n20210212\n20210213\n20210214\n20210215\n20210216\n20210217\n20210218\n20210219\n20210220\n20210221\n20210222\n20210223\n20210224\n20210225\n20210226\n20210227\n20210228\n20210301\n20210302\n20210303\n20210304\n20210305\n20210306\n20210307\n20210308\n20210309\n20210310\n20210311\n20210312\n20210313\n20210314\n20210315\n20210316\n20210317\n20210318\n20210319\n20210320\n20210321\n20210322\n20210323\n20210324\n20210325\n20210326\n20210327\n20210328\n20210329\n20210330\n20210331\n20210401\n20210402\n20210403\n20210404\n20210405\n20210406\n20210407\n20210408\n20210409\n20210410\n20210411\n20210412\n20210413\n20210414\n20210415\n20210416\n20210417\n20210418\n20210419\n20210420\n20210421\n20210422\n20210423\n20210424\n20210425\n20210426\n20210427\n20210428\n20210429\n20210430\n20210501\n20210502\n20210503\n20210504\n20210505\n20210506\n20210507\n"
     ]
    }
   ],
   "source": [
    "import pandas as pd\n",
    "\n",
    "\n",
    "#pd.date_range('2020-01-01', periods = 8, freq = 'M')\n",
    "#출처: https://rfriend.tistory.com/503 [R, Python 분석과 프로그래밍의 친구 (by R Friend)]\n",
    "\n",
    "#pd.date_range( start='2021-01-01',  periods= 360)\n",
    "\n",
    "pdf_date = pd.date_range( start='20210101', end='20210507' )\n",
    "\n",
    "for da in pdf_date:\n",
    "    print(da.strftime(\"%Y%m%d\"))\n"
   ]
  },
  {
   "cell_type": "code",
   "execution_count": 10,
   "metadata": {},
   "outputs": [
    {
     "output_type": "execute_result",
     "data": {
      "text/plain": [
       "137160"
      ]
     },
     "metadata": {},
     "execution_count": 10
    }
   ],
   "source": [
    "\n",
    "df = spark.read.format(\"parquet\").load(\"d:/dw/stock_min/date=20200604\")\n",
    "df.count()\n",
    "\n"
   ]
  },
  {
   "cell_type": "code",
   "execution_count": 13,
   "metadata": {},
   "outputs": [],
   "source": [
    "df_2 = spark.read.format(\"parquet\").load(\"d:/dw/stock_min/date=20200602\")"
   ]
  },
  {
   "cell_type": "code",
   "execution_count": 14,
   "metadata": {},
   "outputs": [
    {
     "output_type": "execute_result",
     "data": {
      "text/plain": [
       "543306"
      ]
     },
     "metadata": {},
     "execution_count": 14
    }
   ],
   "source": [
    "df_2.count()"
   ]
  },
  {
   "cell_type": "code",
   "execution_count": 27,
   "metadata": {},
   "outputs": [],
   "source": [
    "df = spark.read.format(\"parquet\").load(\"d:/dw/stock_code\")"
   ]
  },
  {
   "cell_type": "code",
   "execution_count": 28,
   "metadata": {},
   "outputs": [
    {
     "output_type": "execute_result",
     "data": {
      "text/plain": [
       "596"
      ]
     },
     "metadata": {},
     "execution_count": 28
    }
   ],
   "source": [
    "df.count()"
   ]
  },
  {
   "cell_type": "code",
   "execution_count": 20,
   "metadata": {
    "tags": []
   },
   "outputs": [
    {
     "output_type": "stream",
     "name": "stdout",
     "text": [
      "1490\n"
     ]
    }
   ],
   "source": [
    "i = 0 \n",
    "for code in df.collect():\n",
    "    i= i +1 \n",
    "\n",
    "print ( i ) "
   ]
  },
  {
   "cell_type": "code",
   "execution_count": null,
   "metadata": {},
   "outputs": [],
   "source": []
  }
 ],
 "metadata": {
  "kernelspec": {
   "display_name": "test32",
   "language": "python",
   "name": "test32"
  },
  "language_info": {
   "codemirror_mode": {
    "name": "ipython",
    "version": 3
   },
   "file_extension": ".py",
   "mimetype": "text/x-python",
   "name": "python",
   "nbconvert_exporter": "python",
   "pygments_lexer": "ipython3",
   "version": "3.7.9"
  }
 },
 "nbformat": 4,
 "nbformat_minor": 4
}