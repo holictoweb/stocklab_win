{
 "cells": [
  {
   "cell_type": "code",
   "execution_count": 2,
   "metadata": {},
   "outputs": [],
   "source": [
    "from pymongo import MongoClient\n",
    "from pymongo.cursor import CursorType\n",
    "import configparser"
   ]
  },
  {
   "cell_type": "code",
   "execution_count": null,
   "metadata": {},
   "outputs": [],
   "source": [
    "print 'Mongo version', pymongo.__version__\n",
    "client = MongoClient('localhost', 27017)\n",
    "db = client.test\n",
    "collection = db.people"
   ]
  },
  {
   "cell_type": "code",
   "execution_count": 11,
   "metadata": {},
   "outputs": [
    {
     "output_type": "stream",
     "name": "stdout",
     "text": "[]\n"
    },
    {
     "output_type": "execute_result",
     "data": {
      "text/plain": "\"host = config['MONGODB']['host']\\npart = config['MONGODB']['port']\\n\\nclient = MongoClient(host,int(port))\""
     },
     "metadata": {},
     "execution_count": 11
    }
   ],
   "source": [
    "config = configparser.ConfigParser()\n",
    "test =config.read('conf/config.ini')\n",
    "print(test)\n",
    "\n",
    "'''host = config['MONGODB']['host']\n",
    "part = config['MONGODB']['port']\n",
    "\n",
    "client = MongoClient(host,int(port))'''"
   ]
  }
 ],
 "metadata": {
  "language_info": {
   "codemirror_mode": {
    "name": "ipython",
    "version": 3
   },
   "file_extension": ".py",
   "mimetype": "text/x-python",
   "name": "python",
   "nbconvert_exporter": "python",
   "pygments_lexer": "ipython3",
   "version": "3.7.7-final"
  },
  "orig_nbformat": 2,
  "kernelspec": {
   "name": "python37732bittoone32conda8b3c1c8d7328478c80a8a06cb1f9acc7",
   "display_name": "Python 3.7.7 32-bit ('toone_32': conda)"
  }
 },
 "nbformat": 4,
 "nbformat_minor": 2
}